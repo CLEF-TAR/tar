{
 "cells": [
  {
   "cell_type": "code",
   "execution_count": 7,
   "metadata": {
    "collapsed": false,
    "deletable": true,
    "editable": true
   },
   "outputs": [
    {
     "name": "stdout",
     "output_type": "stream",
     "text": [
      "['CD011787', 'CD011558']\n"
     ]
    }
   ],
   "source": [
    "from os import listdir\n",
    "from os.path import isfile, join\n",
    "\n",
    "mypath = \"/Users/ekanou/CLEF/tar/2019-TAR/Task2/Testing/Qualitative/Topics\"\n",
    "onlyfiles = [f for f in listdir(mypath) if isfile(join(mypath, f)) & f.startswith('CD')]\n",
    "print(onlyfiles)"
   ]
  },
  {
   "cell_type": "code",
   "execution_count": 8,
   "metadata": {
    "collapsed": false,
    "deletable": true,
    "editable": true
   },
   "outputs": [
    {
     "name": "stdout",
     "output_type": "stream",
     "text": [
      "Topic ID & Topic Title \\\\\n",
      "CD011787 & Parents' and informal caregivers' views and experiences of communication about routine childhood vaccination: a synthesis of qualitative evidence\\\\\n",
      "CD011558 & Factors that influence the provision of intrapartum and postnatal care by skilled birth attendants in low‐ and middle‐income countries: a qualitative evidence synthesis\\\\\n"
     ]
    }
   ],
   "source": [
    "topics = {}\n",
    "for file in onlyfiles:\n",
    "    with open(mypath + '/' + file, 'r') as f:\n",
    "        for line in f:\n",
    "            tmp = line.split('Topic:')\n",
    "            if len(tmp)>1:\n",
    "                tid = tmp[1].strip()\n",
    "            tmp = line.split('Title:')\n",
    "            if len(tmp)>1:\n",
    "                title = tmp[1].strip()\n",
    "    topics[tid] = title\n",
    "\n",
    "#dates = {}\n",
    "#with open(\"/Users/ekanou/CLEF/tar/2019-TAR/Task1/Testing/pubdates.txt\", 'r') as f:\n",
    "#    for line in f:\n",
    "#        tmp = line.split()\n",
    "#        if len(tmp)>0:\n",
    "#            dates[tmp[0]] = tmp[2]\n",
    "\n",
    "print('Topic ID & Topic Title \\\\\\\\')\n",
    "for tid in topics:\n",
    "    print(tid + \" & \" + topics[tid] + \"\\\\\\\\\")\n",
    "    "
   ]
  },
  {
   "cell_type": "code",
   "execution_count": null,
   "metadata": {
    "collapsed": true
   },
   "outputs": [],
   "source": [
    "from collections import defaultdict\n",
    "\n",
    "reviews = ['DTA', 'Intervention', 'Prognosis', 'Qualitative']\n",
    "devtest = 'Testing'"
   ]
  },
  {
   "cell_type": "code",
   "execution_count": 44,
   "metadata": {
    "collapsed": false,
    "deletable": true,
    "editable": true
   },
   "outputs": [
    {
     "name": "stdout",
     "output_type": "stream",
     "text": [
      "Topic & total # of PMIDs & # abs rel & # doc rel & % abs rel & % doc rel \\\\\n",
      "CD011558 & 2168 & 51 & 27 & 0.024 & 0.012 \\\\\n",
      "CD011787 & 4369 & 125 & 34 & 0.029 & 0.008 \\\\\n",
      "0.026067325648079093 0.01011798785303028\n"
     ]
    }
   ],
   "source": [
    "from collections import defaultdict\n",
    "\n",
    "reviews = ['Qualitative']#, 'DTA', 'Intervention', 'Prognosis', 'Qualitative']\n",
    "devtest = 'Testing'\n",
    "\n",
    "pmids = defaultdict(int)\n",
    "abst = defaultdict(int)\n",
    "doc = defaultdict(int)        \n",
    "\n",
    "print(\"Topic & total # of PMIDs & # abs rel & # doc rel & % abs rel & % doc rel \\\\\\\\\")\n",
    "\n",
    "for review in reviews:\n",
    "\n",
    "    with open (\"/Users/ekanou/CLEF/tar/2019-TAR/Task2/\" + devtest +\"/\"+ review +\"/qrels/full.test.\"+review.lower()+\".content.2019.qrels\", 'r') as f:\n",
    "        for line in f:\n",
    "            tmp = line.split()\n",
    "            pmids[tmp[0]] = pmids[tmp[0]] + 1\n",
    "    with open (\"/Users/ekanou/CLEF/tar/2019-TAR/Task1/\" + devtest +\"/\"+ review +\"/qrels/task1.test.abs.\"+review.lower()+\".2019.qrels\", 'r') as f:\n",
    "        for line in f:\n",
    "            tmp = line.split()\n",
    "            abst[tmp[0]] = abst[tmp[0]] + 1\n",
    "    with open (\"/Users/ekanou/CLEF/tar/2019-TAR/Task1/\" + devtest +\"/\"+ review +\"/qrels/task1.test.content.\"+review.lower()+\".2019.qrels\", 'r') as f:\n",
    "        for line in f:\n",
    "            tmp = line.split()\n",
    "            doc[tmp[0]] = doc[tmp[0]] + 1\n",
    "apabs = 0\n",
    "apdoc = 0\n",
    "n = 0\n",
    "for tid in sorted(pmids):\n",
    "    n = n + 1\n",
    "    pabs = abst[tid]/pmids[tid]\n",
    "    pdoc = doc[tid]/pmids[tid]\n",
    "    print(\"%s & %d & %d & %d & %.3f & %.3f \\\\\\\\\" % (tid,pmids[tid],abst[tid],doc[tid],pabs,pdoc))\n",
    "    apabs = apabs + pabs\n",
    "    apdoc = apdoc + pdoc\n",
    "print(apabs/n, apdoc/n)"
   ]
  },
  {
   "cell_type": "code",
   "execution_count": 9,
   "metadata": {
    "collapsed": false,
    "deletable": true,
    "editable": true
   },
   "outputs": [
    {
     "name": "stdout",
     "output_type": "stream",
     "text": [
      "0\n",
      "0\n"
     ]
    }
   ],
   "source": [
    "total = 0\n",
    "for tid in sorted(dates, key=dates.__getitem__):\n",
    "    total = total + abst[tid]\n",
    "print(total)\n",
    "total = 0\n",
    "for tid in sorted(dates, key=dates.__getitem__):\n",
    "    total = total + doc[tid]\n",
    "print(total)"
   ]
  },
  {
   "cell_type": "code",
   "execution_count": 45,
   "metadata": {
    "collapsed": false,
    "deletable": true,
    "editable": true
   },
   "outputs": [
    {
     "name": "stdout",
     "output_type": "stream",
     "text": [
      "Topic & total # of PMIDs & # abs rel & # doc rel & % abs rel & % doc rel \\\\\n",
      "CD009944 & 1162 & 98 & 60 & 0.084 & 0.052 \\\\\n",
      "CD009925 & 6531 & 460 & 55 & 0.070 & 0.008 \\\\\n",
      "CD009579 & 6455 & 138 & 79 & 0.021 & 0.012 \\\\\n",
      "CD011134 & 1938 & 200 & 48 & 0.103 & 0.025 \\\\\n",
      "CD010438 & 3241 & 30 & 2 & 0.009 & 0.001 \\\\\n",
      "CD008054 & 3149 & 206 & 30 & 0.065 & 0.010 \\\\\n",
      "CD010173 & 5495 & 23 & 10 & 0.004 & 0.002 \\\\\n",
      "CD010633 & 1573 & 4 & 3 & 0.003 & 0.002 \\\\\n",
      "CD010632 & 1499 & 27 & 14 & 0.018 & 0.009 \\\\\n",
      "CD011548 & 12704 & 109 & 5 & 0.009 & 0.000 \\\\\n",
      "CD009647 & 2785 & 56 & 17 & 0.020 & 0.006 \\\\\n",
      "CD009551 & 1911 & 46 & 16 & 0.024 & 0.008 \\\\\n",
      "CD011975 & 8186 & 604 & 60 & 0.074 & 0.007 \\\\\n",
      "CD009786 & 2065 & 10 & 6 & 0.005 & 0.003 \\\\\n",
      "CD009519 & 5971 & 104 & 46 & 0.017 & 0.008 \\\\\n",
      "CD009020 & 1576 & 154 & 12 & 0.098 & 0.008 \\\\\n",
      "CD009323 & 3857 & 98 & 9 & 0.025 & 0.002 \\\\\n",
      "CD008691 & 1310 & 67 & 19 & 0.051 & 0.015 \\\\\n",
      "CD010653 & 8002 & 45 & 0 & 0.006 & 0.000 \\\\\n",
      "CD012019 & 10317 & 3 & 1 & 0.000 & 0.000 \\\\\n",
      "CD009185 & 1615 & 92 & 23 & 0.057 & 0.014 \\\\\n",
      "CD010023 & 981 & 52 & 14 & 0.053 & 0.014 \\\\\n",
      "CD010339 & 12807 & 114 & 9 & 0.009 & 0.001 \\\\\n",
      "CD007394 & 2542 & 92 & 45 & 0.036 & 0.018 \\\\\n",
      "CD008803 & 5220 & 99 & 99 & 0.019 & 0.019 \\\\\n",
      "CD008782 & 10507 & 45 & 34 & 0.004 & 0.003 \\\\\n",
      "CD010276 & 5495 & 54 & 24 & 0.010 & 0.004 \\\\\n",
      "CD010705 & 114 & 23 & 18 & 0.202 & 0.158 \\\\\n",
      "CD008643 & 15078 & 6 & 2 & 0.000 & 0.000 \\\\\n",
      "CD010542 & 348 & 20 & 8 & 0.057 & 0.023 \\\\\n",
      "CD011549 & 12704 & 1 & 1 & 0.000 & 0.000 \\\\\n",
      "CD010409 & 43335 & 48 & 27 & 0.001 & 0.001 \\\\\n",
      "CD009135 & 791 & 77 & 19 & 0.097 & 0.024 \\\\\n",
      "CD008081 & 970 & 26 & 10 & 0.027 & 0.010 \\\\\n",
      "CD009372 & 2248 & 25 & 10 & 0.011 & 0.004 \\\\\n",
      "CD008760 & 64 & 12 & 9 & 0.188 & 0.141 \\\\\n",
      "CD010386 & 625 & 2 & 1 & 0.003 & 0.002 \\\\\n",
      "CD008686 & 3964 & 5 & 3 & 0.001 & 0.001 \\\\\n",
      "CD007427 & 1457 & 59 & 8 & 0.040 & 0.005 \\\\\n",
      "CD011984 & 8180 & 442 & 28 & 0.054 & 0.003 \\\\\n",
      "CD009591 & 7990 & 143 & 41 & 0.018 & 0.005 \\\\\n",
      "CD009593 & 14907 & 63 & 20 & 0.004 & 0.001 \\\\\n"
     ]
    }
   ],
   "source": [
    "from collections import defaultdict\n",
    "\n",
    "pmids = defaultdict(int)\n",
    "with open (\"/Users/ekanou/CLEF/tar/2018-TAR/Task2/Training/qrels/full.train.abs.2018.qrels\", 'r') as f:\n",
    "    for line in f:\n",
    "        tmp = line.split()\n",
    "        pmids[tmp[0]] = pmids[tmp[0]] + 1\n",
    "abst = defaultdict(int)\n",
    "with open (\"/Users/ekanou/CLEF/tar/2018-TAR/Task2/Training/qrels/qrels_abs_task2\", 'r') as f:\n",
    "    for line in f:\n",
    "        tmp = line.split()\n",
    "        abst[tmp[0]] = abst[tmp[0]] + int(tmp[3])\n",
    "doc = defaultdict(int)        \n",
    "with open (\"/Users/ekanou/CLEF/tar/2018-TAR/Task2/Training/qrels/qrels_content_task2\", 'r') as f:\n",
    "    for line in f:\n",
    "        tmp = line.split()\n",
    "        doc[tmp[0]] = doc[tmp[0]] + int(tmp[3])\n",
    "        \n",
    "print(\"Topic & total # of PMIDs & # abs rel & # doc rel & % abs rel & % doc rel \\\\\\\\\")\n",
    "for tid in pmids:\n",
    "    pabs = abst[tid]/pmids[tid]\n",
    "    pdoc = doc[tid]/pmids[tid]\n",
    "    print(\"%s & %d & %d & %d & %.3f & %.3f \\\\\\\\\" % (tid,pmids[tid],abst[tid],doc[tid],pabs,pdoc))\n"
   ]
  },
  {
   "cell_type": "code",
   "execution_count": 49,
   "metadata": {
    "collapsed": false,
    "deletable": true,
    "editable": true
   },
   "outputs": [
    {
     "name": "stdout",
     "output_type": "stream",
     "text": [
      "0.014999578151999112\n"
     ]
    }
   ],
   "source": [
    "total = 0\n",
    "for tid in pmids:\n",
    "    total = total + doc[tid]/pmids[tid]\n",
    "print(total/42)"
   ]
  },
  {
   "cell_type": "code",
   "execution_count": null,
   "metadata": {
    "collapsed": true,
    "deletable": true,
    "editable": true
   },
   "outputs": [],
   "source": [
    "abst[tid]"
   ]
  }
 ],
 "metadata": {
  "kernelspec": {
   "display_name": "Python 3",
   "language": "python",
   "name": "python3"
  },
  "language_info": {
   "codemirror_mode": {
    "name": "ipython",
    "version": 3
   },
   "file_extension": ".py",
   "mimetype": "text/x-python",
   "name": "python",
   "nbconvert_exporter": "python",
   "pygments_lexer": "ipython3",
   "version": "3.6.0"
  }
 },
 "nbformat": 4,
 "nbformat_minor": 2
}
